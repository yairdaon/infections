{
 "cells": [
  {
   "cell_type": "code",
   "execution_count": 28,
   "metadata": {},
   "outputs": [
    {
     "name": "stdout",
     "output_type": "stream",
     "text": [
      "Using matplotlib backend: Qt5Agg\n"
     ]
    }
   ],
   "source": [
    "import numpy as np\n",
    "import pandas as pd\n",
    "import os\n",
    "import pickle\n",
    "import math\n",
    "import pdb\n",
    "from matplotlib import pyplot as plt\n",
    "import importlib\n",
    "import seaborn as sns\n",
    "\n",
    "from cartopy import crs as ccrs\n",
    "from cartopy import feature as cfeature\n",
    "from matplotlib import cm\n",
    "\n",
    "import loaders\n",
    "import geography\n",
    "import visualization\n",
    "\n",
    "importlib.reload(loaders)\n",
    "importlib.reload(geography)\n",
    "importlib.reload(visualization)\n",
    "import visualization as vis\n",
    "\n",
    "%matplotlib"
   ]
  },
  {
   "cell_type": "code",
   "execution_count": 11,
   "metadata": {},
   "outputs": [],
   "source": [
    "fn = './tables/TableS3.csv'\n",
    "df = pd.read_csv(fn)\n",
    "region = 'global'"
   ]
  },
  {
   "cell_type": "code",
   "execution_count": 17,
   "metadata": {},
   "outputs": [
    {
     "name": "stdout",
     "output_type": "stream",
     "text": [
      "Plotting geodesics\n",
      "scalin\n"
     ]
    }
   ],
   "source": [
    "plt.close('all')\n",
    "def plot_geodesics(df, region, opacity_s=0.8):\n",
    "    print(\"Plotting geodesics\")\n",
    "    #df = df.query('Dest in @destinations')\n",
    "    fig = plt.figure(figsize=vis.MAP_SIZE)\n",
    "    plateCr = ccrs.PlateCarree()\n",
    "    plateCr._threshold = plateCr._threshold/10.\n",
    "    ax = plt.axes(projection=plateCr)\n",
    "    \n",
    "    #mx = df.Prediction.max()\n",
    "    if region == 'global':\n",
    "        cutoff = 0.005\n",
    "    else:\n",
    "        cutoff = 0.1\n",
    "    opacity = np.maximum(df.risk_ij, cutoff)\n",
    "    lines = plt.plot(df[['origin_lon', 'dest_lon']].T,\n",
    "                     df[['origin_lat', 'dest_lat']].T, \n",
    "                     color='r',\n",
    "                     transform=ccrs.Geodetic())\n",
    "    print('scalin')\n",
    "    [line.set_alpha(vis.opacity_scaler(alpha, opacity_s)) for alpha, line in zip(opacity, lines)]\n",
    "    \n",
    "    vis._annotate(ax, text='a', color='k', region=region)\n",
    "    vis._add_features(ax, region=region)\n",
    "\n",
    "    plt.tight_layout()\n",
    "plot_geodesics(df, region, opacity_s=1.5)"
   ]
  },
  {
   "cell_type": "code",
   "execution_count": 32,
   "metadata": {},
   "outputs": [
    {
     "data": {
      "text/plain": [
       "(1001, 2001)"
      ]
     },
     "execution_count": 32,
     "metadata": {},
     "output_type": "execute_result"
    }
   ],
   "source": []
  },
  {
   "cell_type": "code",
   "execution_count": 45,
   "metadata": {},
   "outputs": [
    {
     "data": {
      "text/plain": [
       "(15, 23)"
      ]
     },
     "execution_count": 45,
     "metadata": {},
     "output_type": "execute_result"
    }
   ],
   "source": [
    "vert_window = 7\n",
    "horz_window = 11\n",
    "arr = np.ones((vert_window*2+1, horz_window*2+1))\n",
    "X, Y = np.meshgrid(np.arange(-horz_window,horz_window+1), np.arange(-vert_window, vert_window+1))\n",
    "inds = Y**2/vert_window**2 + X**2/horz_window**2 > 1\n",
    "arr[inds] = 0 \n",
    "plt.imshow(arr)\n",
    "plt.show()\n",
    "arr.shape"
   ]
  },
  {
   "cell_type": "code",
   "execution_count": 39,
   "metadata": {},
   "outputs": [
    {
     "data": {
      "text/plain": [
       "(1001, 2001)"
      ]
     },
     "execution_count": 39,
     "metadata": {},
     "output_type": "execute_result"
    }
   ],
   "source": []
  },
  {
   "cell_type": "code",
   "execution_count": 17,
   "metadata": {},
   "outputs": [
    {
     "data": {
      "text/plain": [
       "masked_array(data=[0.52656971, 0.66219197, 0.98766947, ..., 0.15271373,\n",
       "                   0.01485872, 0.03986964],\n",
       "             mask=False,\n",
       "       fill_value=1e+20)"
      ]
     },
     "execution_count": 17,
     "metadata": {},
     "output_type": "execute_result"
    }
   ],
   "source": []
  },
  {
   "cell_type": "code",
   "execution_count": 43,
   "metadata": {},
   "outputs": [
    {
     "name": "stderr",
     "output_type": "stream",
     "text": [
      "/usr/local/lib/python3.7/dist-packages/ipykernel_launcher.py:3: RuntimeWarning: divide by zero encountered in true_divide\n",
      "  This is separate from the ipykernel package so we can avoid doing imports until\n"
     ]
    },
    {
     "data": {
      "text/plain": [
       "0.8857997487800919"
      ]
     },
     "execution_count": 43,
     "metadata": {},
     "output_type": "execute_result"
    }
   ],
   "source": [
    "plt.close('all')\n",
    "x = np.linspace(0,1)\n",
    "f = lambda x,s=1: np.maximum(np.arctan(1/(1-x)**s - 1/x**s) / np.pi + 0.5, 0.05)\n",
    "y = f(x)\n",
    "plt.plot(x,y)\n",
    "p = 0.75\n",
    "plt.scatter(p, f(p),color='r')\n",
    "plt.show()\n",
    "f(p)"
   ]
  },
  {
   "cell_type": "code",
   "execution_count": 31,
   "metadata": {},
   "outputs": [
    {
     "data": {
      "text/plain": [
       "array([0.        , 0.00663338, 0.01356146, 0.02081828, 0.0284436 ,\n",
       "       0.03648417, 0.04499516, 0.0540421 , 0.06370317, 0.07407217,\n",
       "       0.0852622 , 0.09741033, 0.11068332, 0.12528468, 0.14146303,\n",
       "       0.15952135, 0.17982617, 0.20281377, 0.22898749, 0.25889544,\n",
       "       0.29307025, 0.33190868, 0.3754773 , 0.42327455, 0.47406225,\n",
       "       0.52593775, 0.57672545, 0.6245227 , 0.66809132, 0.70692975,\n",
       "       0.74110456, 0.77101251, 0.79718623, 0.82017383, 0.84047865,\n",
       "       0.85853697, 0.87471532, 0.88931668, 0.90258967, 0.9147378 ,\n",
       "       0.92592783, 0.93629683, 0.9459579 , 0.95500484, 0.96351583,\n",
       "       0.9715564 , 0.97918172, 0.98643854, 0.99336662, 1.        ])"
      ]
     },
     "execution_count": 31,
     "metadata": {},
     "output_type": "execute_result"
    }
   ],
   "source": [
    "y"
   ]
  },
  {
   "cell_type": "code",
   "execution_count": null,
   "metadata": {},
   "outputs": [],
   "source": [
    "x**2 + (y-1)**2 = 1\n",
    "y-1 = -(1-x**2) + 1"
   ]
  }
 ],
 "metadata": {
  "kernelspec": {
   "display_name": "Python 3",
   "language": "python",
   "name": "python3"
  },
  "language_info": {
   "codemirror_mode": {
    "name": "ipython",
    "version": 3
   },
   "file_extension": ".py",
   "mimetype": "text/x-python",
   "name": "python",
   "nbconvert_exporter": "python",
   "pygments_lexer": "ipython3",
   "version": "3.7.5"
  }
 },
 "nbformat": 4,
 "nbformat_minor": 4
}
